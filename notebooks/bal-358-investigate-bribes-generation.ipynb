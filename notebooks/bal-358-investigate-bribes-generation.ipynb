{
 "cells": [
  {
   "cell_type": "code",
   "execution_count": 49,
   "metadata": {},
   "outputs": [],
   "source": [
    "from balpy_v2.lib.gql import gql\n",
    "\n",
    "GRAPH_URL = \"https://api.thegraph.com/subgraphs/name/bleu-studio/balancer-mainnet-v2\"\n",
    "SWAPS_QUERY = \"\"\"query {\n",
    "  swaps(first: 1000, where:{poolId:\"0x1e19cf2d73a72ef1332c882f20534b6519be0276000200000000000000000112\", timestamp_gt:1657497600, timestamp_lt: 1658718000}, orderBy:timestamp) { \n",
    "    id\n",
    "    valueUSD\n",
    "    poolId {\n",
    "      id\n",
    "      swapFee\n",
    "    }\n",
    "  }  \n",
    "}\"\"\"\n"
   ]
  },
  {
   "cell_type": "code",
   "execution_count": 50,
   "metadata": {},
   "outputs": [
    {
     "name": "stdout",
     "output_type": "stream",
     "text": [
      "Approximate swap fees: 2333.0515199093857\n"
     ]
    }
   ],
   "source": [
    "import datetime\n",
    "import asyncio\n",
    "from balpy_v2.subgraphs.blocks import get_block_number_by_timestamp\n",
    "from functools import reduce\n",
    "REPORT_PERIOD_START_DATE = datetime.datetime(2022, 7, 11, 0, 0, 0).timestamp()\n",
    "jul11_ts = REPORT_PERIOD_START_DATE\n",
    "jul25_ts = jul11_ts + datetime.timedelta(weeks=2).total_seconds()\n",
    "jul11_block, jul25_block = await asyncio.gather(\n",
    "    *[\n",
    "        get_block_number_by_timestamp(timestamp=int(ts))\n",
    "        for ts in [jul11_ts, jul25_ts]\n",
    "\n",
    "    ])\n",
    "from balpy_v2.pools.fees_report import REPORT_CYCLES_START_DATES\n",
    "\n",
    "\n",
    "swaps = await gql(\n",
    "    GRAPH_URL,\n",
    "    SWAPS_QUERY,\n",
    "    variables=dict(block=jul25_block),\n",
    ")\n",
    "\n",
    "approx_swap_fees = reduce(lambda acc, curr: acc+float(curr[\"valueUSD\"]), swaps[\"swaps\"], 0) * 0.0004\n",
    "print(f\"Approximate swap fees: {approx_swap_fees}\")"
   ]
  },
  {
   "cell_type": "code",
   "execution_count": 51,
   "metadata": {},
   "outputs": [
    {
     "data": {
      "text/plain": [
       "25"
      ]
     },
     "execution_count": 51,
     "metadata": {},
     "output_type": "execute_result"
    }
   ],
   "source": [
    "JOINS_QUERY = \"\"\"\n",
    "query {\n",
    "  joinExits(first: 1000, where:{pool:\"0x1e19cf2d73a72ef1332c882f20534b6519be0276000200000000000000000112\", timestamp_gt:1657497600, timestamp_lt: 1658718000}, orderBy:timestamp) {\n",
    "    id\n",
    "    timestamp\n",
    "    valueUSD\n",
    "    pool {\n",
    "      id\n",
    "    }\n",
    "  }\n",
    "}\n",
    "\"\"\"\n",
    "\n",
    "\n",
    "join_exits = await gql(\n",
    "    GRAPH_URL,\n",
    "    JOINS_QUERY,\n",
    "    variables=dict(block=jul25_block),\n",
    ")\n",
    "join_exits[\"joinExits\"].__len__()"
   ]
  },
  {
   "cell_type": "code",
   "execution_count": 52,
   "metadata": {},
   "outputs": [
    {
     "name": "stdout",
     "output_type": "stream",
     "text": [
      "Approximate joins/exits fees: 1415.2606925737334\n"
     ]
    }
   ],
   "source": [
    "approx_joins_exits = reduce(lambda acc, curr: acc+float(curr[\"valueUSD\"]), join_exits[\"joinExits\"], 0) * 0.0004\n",
    "print(f\"Approximate joins/exits fees: {approx_joins_exits}\")"
   ]
  },
  {
   "cell_type": "code",
   "execution_count": 54,
   "metadata": {},
   "outputs": [
    {
     "data": {
      "text/plain": [
       "3748.312212483119"
      ]
     },
     "execution_count": 54,
     "metadata": {},
     "output_type": "execute_result"
    }
   ],
   "source": [
    "approx_joins_exits + approx_swap_fees"
   ]
  },
  {
   "cell_type": "code",
   "execution_count": 58,
   "metadata": {},
   "outputs": [
    {
     "data": {
      "text/plain": [
       "{'pool': {'totalSwapFee': '35390.34348398538671327838061504521'}}"
      ]
     },
     "execution_count": 58,
     "metadata": {},
     "output_type": "execute_result"
    }
   ],
   "source": [
    " await gql(\n",
    "    GRAPH_URL,\n",
    "    \"\"\"query($block: Int!) {\n",
    "    pool(id: \"0x1e19cf2d73a72ef1332c882f20534b6519be0276000200000000000000000112\", block: {number: $block}) {\n",
    "    totalSwapFee\n",
    "    }\n",
    "    }\"\"\",\n",
    "    variables=dict(block=jul11_block),\n",
    ")"
   ]
  },
  {
   "cell_type": "code",
   "execution_count": 59,
   "metadata": {},
   "outputs": [
    {
     "data": {
      "text/plain": [
       "2321.235647341957"
      ]
     },
     "execution_count": 59,
     "metadata": {},
     "output_type": "execute_result"
    }
   ],
   "source": [
    "37711.57913132734176101946688161184 - 35390.34348398538671327838061504521"
   ]
  },
  {
   "cell_type": "code",
   "execution_count": null,
   "metadata": {},
   "outputs": [],
   "source": [
    "# Ok, let's pick reth/weth and see how much it paid and then compare to what Solar has in his spreadsheet\n",
    "reth_weth = paid_fees[paid_fees[\"pool_symbol\"] == \"B-stETH-STABLE\"]\n",
    "# and now let's get the price of the token at the \"current\" time\n",
    "token_addr, token_symbol, amount_in_token = reth_weth[\"address\"][0], reth_weth[\"symbol\"][0], reth_weth[\"paidProtocolFees_diff\"][0]\n",
    "token_addr, token_symbol, amount_in_token, reth_weth[\"token_latestUSDPrice_start\"][0], amount_in_token * reth_weth[\"token_latestUSDPrice_start\"][0]"
   ]
  },
  {
   "cell_type": "code",
   "execution_count": null,
   "metadata": {},
   "outputs": [],
   "source": []
  },
  {
   "cell_type": "code",
   "execution_count": null,
   "metadata": {},
   "outputs": [],
   "source": []
  }
 ],
 "metadata": {
  "kernelspec": {
   "display_name": "bribes-generation-QTj7Rz1O-py3.11",
   "language": "python",
   "name": "python3"
  },
  "language_info": {
   "codemirror_mode": {
    "name": "ipython",
    "version": 3
   },
   "file_extension": ".py",
   "mimetype": "text/x-python",
   "name": "python",
   "nbconvert_exporter": "python",
   "pygments_lexer": "ipython3",
   "version": "3.11.2"
  },
  "orig_nbformat": 4
 },
 "nbformat": 4,
 "nbformat_minor": 2
}
